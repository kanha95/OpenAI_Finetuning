{
 "cells": [
  {
   "cell_type": "markdown",
   "id": "4cbeca1d-5190-4346-8599-9222dac6b4c1",
   "metadata": {},
   "source": [
    "# LLM Fine Tuning"
   ]
  },
  {
   "cell_type": "markdown",
   "id": "47e59af6",
   "metadata": {},
   "source": [
    "In this notebook we'll walk through the process of fine-tuning one of OpenAI's advanced language models on the [MTSamples](https://mtsamples.com/) dataset. The objective is to enhance the model's proficiency in understanding and generating medical content, making it a valuable tool for healthcare professionals, researchers, and students.\n",
    "\n",
    "Large language models have shown remarkable abilities to understand, generate, and even creatively engage with a wide range of topics. However, when it comes to medical data and other specialized fields, their proficiency can sometimes be less than optimal due to a variety of reasons:\n",
    "\n",
    "1. Training Data:<br />\n",
    "LLMs are trained on unimaginable amount of data from the internet. However, due to e.g. HIPAA privacy regulations, the percentage of high-quality,  medical content on the internet is limited compared to other topics. Therefore, LLMs might not have been exposed to as much specialized medical knowledge during their training.\n",
    "\n",
    "2. Complexity and Specificity:<br />\n",
    "Medical data and literature often contain highly specialized terms, concepts, and relationships that are complex. Proficiency in this domain requires not only an understanding of the terms but also the context in which they are used. LLMs can sometimes misinterpret or oversimplify these intricate concepts.\n",
    "\n",
    "3. Generalization vs. Specialization:<br />\n",
    "Large Language Models are designed to be generalists, capable of addressing a wide range of topics. While they can generate information on many subjects, they might not always match the depth and accuracy of a model or system specifically designed and trained for medical data.\n",
    "\n",
    "\n",
    "**To this end, the goal of this lecture is to fine tune {INSERT MODEL HERE} on medical reports in order to classify medical reports based on the underlying specialty !**"
   ]
  },
  {
   "cell_type": "markdown",
   "id": "534fd55e",
   "metadata": {},
   "source": [
    "## Objectives:\n",
    "\n",
    "1. **Exploring the MTSamples Dataset:**<br />\n",
    "    - We'll begin by exploring the dataset and its structure.\n",
    "2. **Preprocessing:** \n",
    "    - To prepare for the fine-tuning process, we need to process the dataset into a specific format\n",
    "3. **Fine-Tuning Process:** \n",
    "    - A step-by-step guide to fine-tuning the model, including setting up the right hyperparameters.\n",
    "4. **Evaluation:** \n",
    "    - After training, we'll evaluate our fine-tuned model's performance on medical transcriptions.\n",
    "5. **Applications & Use-Cases:** \n",
    "    - Brief insights into the myriad of ways this fine-tuned model can be utilized in the healthcare domain.\n"
   ]
  },
  {
   "cell_type": "markdown",
   "id": "c9621993",
   "metadata": {},
   "source": [
    "https://www.kaggle.com/datasets/tboyle10/medicaltranscriptions/code"
   ]
  },
  {
   "cell_type": "markdown",
   "id": "17e97ac7",
   "metadata": {},
   "source": [
    "# Exploring the MTSamples Dataset\n",
    "\n",
    "The dataset was originally obtained from [kaggle](https://www.kaggle.com/datasets/tboyle10/medicaltranscriptions/).\n",
    "Note that we already removed all unncessary columns\n"
   ]
  },
  {
   "cell_type": "code",
   "execution_count": 2,
   "id": "86d3261d",
   "metadata": {},
   "outputs": [],
   "source": [
    "import pandas as pd"
   ]
  },
  {
   "cell_type": "code",
   "execution_count": 3,
   "id": "0b6d3078",
   "metadata": {},
   "outputs": [],
   "source": [
    "medical_reports = pd.read_csv(\"reports.csv\")"
   ]
  },
  {
   "cell_type": "markdown",
   "id": "b24f3e37",
   "metadata": {},
   "source": [
    "### Inspect the dataset"
   ]
  },
  {
   "cell_type": "code",
   "execution_count": 4,
   "id": "bfaf25c2",
   "metadata": {},
   "outputs": [
    {
     "data": {
      "text/html": [
       "<div>\n",
       "<style scoped>\n",
       "    .dataframe tbody tr th:only-of-type {\n",
       "        vertical-align: middle;\n",
       "    }\n",
       "\n",
       "    .dataframe tbody tr th {\n",
       "        vertical-align: top;\n",
       "    }\n",
       "\n",
       "    .dataframe thead th {\n",
       "        text-align: right;\n",
       "    }\n",
       "</style>\n",
       "<table border=\"1\" class=\"dataframe\">\n",
       "  <thead>\n",
       "    <tr style=\"text-align: right;\">\n",
       "      <th></th>\n",
       "      <th>medical_specialty</th>\n",
       "      <th>report</th>\n",
       "    </tr>\n",
       "  </thead>\n",
       "  <tbody>\n",
       "    <tr>\n",
       "      <th>0</th>\n",
       "      <td>Cardiovascular / Pulmonary</td>\n",
       "      <td>2-D M-MODE: , ,1.  Left atrial enlargement wit...</td>\n",
       "    </tr>\n",
       "    <tr>\n",
       "      <th>1</th>\n",
       "      <td>Cardiovascular / Pulmonary</td>\n",
       "      <td>1.  The left ventricular cavity size and wall ...</td>\n",
       "    </tr>\n",
       "    <tr>\n",
       "      <th>2</th>\n",
       "      <td>Cardiovascular / Pulmonary</td>\n",
       "      <td>2-D ECHOCARDIOGRAM,Multiple views of the heart...</td>\n",
       "    </tr>\n",
       "    <tr>\n",
       "      <th>3</th>\n",
       "      <td>Cardiovascular / Pulmonary</td>\n",
       "      <td>DESCRIPTION:,1.  Normal cardiac chambers size....</td>\n",
       "    </tr>\n",
       "    <tr>\n",
       "      <th>4</th>\n",
       "      <td>Cardiovascular / Pulmonary</td>\n",
       "      <td>2-D STUDY,1. Mild aortic stenosis, widely calc...</td>\n",
       "    </tr>\n",
       "  </tbody>\n",
       "</table>\n",
       "</div>"
      ],
      "text/plain": [
       "            medical_specialty  \\\n",
       "0  Cardiovascular / Pulmonary   \n",
       "1  Cardiovascular / Pulmonary   \n",
       "2  Cardiovascular / Pulmonary   \n",
       "3  Cardiovascular / Pulmonary   \n",
       "4  Cardiovascular / Pulmonary   \n",
       "\n",
       "                                              report  \n",
       "0  2-D M-MODE: , ,1.  Left atrial enlargement wit...  \n",
       "1  1.  The left ventricular cavity size and wall ...  \n",
       "2  2-D ECHOCARDIOGRAM,Multiple views of the heart...  \n",
       "3  DESCRIPTION:,1.  Normal cardiac chambers size....  \n",
       "4  2-D STUDY,1. Mild aortic stenosis, widely calc...  "
      ]
     },
     "execution_count": 4,
     "metadata": {},
     "output_type": "execute_result"
    }
   ],
   "source": [
    "medical_reports.head()"
   ]
  },
  {
   "cell_type": "markdown",
   "id": "4ca84368",
   "metadata": {},
   "source": [
    "We can see, that the dataset consists of the patient's report and the corresponding medical specialty"
   ]
  },
  {
   "cell_type": "markdown",
   "id": "d1ca0d6f",
   "metadata": {},
   "source": [
    "### Preprocessing\n",
    "Let's check the dataset info"
   ]
  },
  {
   "cell_type": "code",
   "execution_count": 5,
   "id": "ad881bc3",
   "metadata": {},
   "outputs": [
    {
     "name": "stdout",
     "output_type": "stream",
     "text": [
      "<class 'pandas.core.frame.DataFrame'>\n",
      "RangeIndex: 2179 entries, 0 to 2178\n",
      "Data columns (total 2 columns):\n",
      " #   Column             Non-Null Count  Dtype \n",
      "---  ------             --------------  ----- \n",
      " 0   medical_specialty  2179 non-null   object\n",
      " 1   report             2179 non-null   object\n",
      "dtypes: object(2)\n",
      "memory usage: 34.2+ KB\n"
     ]
    }
   ],
   "source": [
    "medical_reports.info()"
   ]
  },
  {
   "cell_type": "markdown",
   "id": "d89a2a3c",
   "metadata": {},
   "source": [
    "We can see that the number of medical_specialty differs from the reports. Let's remove the entries with the missing reports"
   ]
  },
  {
   "cell_type": "code",
   "execution_count": 6,
   "id": "6543beb9",
   "metadata": {},
   "outputs": [
    {
     "name": "stdout",
     "output_type": "stream",
     "text": [
      "<class 'pandas.core.frame.DataFrame'>\n",
      "RangeIndex: 2179 entries, 0 to 2178\n",
      "Data columns (total 2 columns):\n",
      " #   Column             Non-Null Count  Dtype \n",
      "---  ------             --------------  ----- \n",
      " 0   medical_specialty  2179 non-null   object\n",
      " 1   report             2179 non-null   object\n",
      "dtypes: object(2)\n",
      "memory usage: 34.2+ KB\n"
     ]
    }
   ],
   "source": [
    "# Dropping rows where 'report' is missing\n",
    "medical_reports.dropna(subset=['report'], inplace=True)\n",
    "medical_reports.info()"
   ]
  },
  {
   "cell_type": "markdown",
   "id": "2d856dcb",
   "metadata": {},
   "source": [
    "### Train-Test Split\n",
    "Before we inspect the dataset in more detail, let's at first create the train-val-test split\n",
    "Let's select 5 samples out of each class for validation and test data"
   ]
  },
  {
   "cell_type": "code",
   "execution_count": 7,
   "id": "d9507a99",
   "metadata": {},
   "outputs": [],
   "source": [
    "grouped_data = medical_reports.groupby(\"medical_specialty\").sample(110, random_state=42) # Sample 110 items from each class\n",
    "\n",
    "val_test_data = grouped_data.groupby(\"medical_specialty\").sample(10, random_state=42)  # sample 10 items from the above data\n",
    "val = val_test_data.groupby(\"medical_specialty\").head(5) # Take the first 5 of each class\n",
    "test = val_test_data.groupby(\"medical_specialty\").tail(5) # Take the last 5 of each class\n",
    "\n",
    "train = grouped_data[~grouped_data.index.isin(val_test_data.index)] # Take the remaining ones for training"
   ]
  },
  {
   "cell_type": "markdown",
   "id": "ea12aa43",
   "metadata": {},
   "source": [
    "### Dataset Statistics\n",
    "Let's explore the dataset to provide some basic statistics"
   ]
  },
  {
   "cell_type": "code",
   "execution_count": 8,
   "id": "669d89fa",
   "metadata": {},
   "outputs": [
    {
     "name": "stdout",
     "output_type": "stream",
     "text": [
      "Number of unique medical specialties: 5\n",
      "\n",
      "Distribution of reports across medical specialties:\n",
      "medical_specialty\n",
      "Cardiovascular / Pulmonary    100\n",
      "Gastroenterology              100\n",
      "Neurology                     100\n",
      "Radiology                     100\n",
      "Surgery                       100\n",
      "Name: count, dtype: int64\n"
     ]
    }
   ],
   "source": [
    "# 1. Number of unique medical specialties\n",
    "print(f\"Number of unique medical specialties: {train['medical_specialty'].nunique()}\")\n",
    "\n",
    "# 2. Distribution of reports across different medical specialties\n",
    "print(\"\\nDistribution of reports across medical specialties:\")\n",
    "print(train['medical_specialty'].value_counts())\n"
   ]
  },
  {
   "cell_type": "code",
   "execution_count": 27,
   "id": "fd3c8893",
   "metadata": {},
   "outputs": [],
   "source": [
    "# 3. Average, minimum, and maximum report length (in tokens, not words).\n",
    "# This is important due to token limitations and also to estimate the price.\n",
    "# Let's calculate the tokens for OpenAI's cheapest model, babbage-002\n",
    "import tiktoken\n",
    "\n",
    "def num_tokens_from_string(string: str) -> int:\n",
    "    \"\"\"Returns the number of tokens in a text string.\n",
    "    (https://cookbook.openai.com/examples/how_to_count_tokens_with_tiktoken)\"\"\"\n",
    "    encoding = tiktoken.get_encoding(\"cl100k_base\")  # encoding for currently all models\n",
    "    num_tokens = len(encoding.encode(string))\n",
    "    return num_tokens"
   ]
  },
  {
   "cell_type": "code",
   "execution_count": 10,
   "id": "15e4e89d",
   "metadata": {},
   "outputs": [
    {
     "name": "stdout",
     "output_type": "stream",
     "text": [
      "Average report length: 674.79 tokens\n",
      "Minimum report length: 14 tokens\n",
      "Maximum report length: 3701 tokens\n",
      "# The training dataset consists of: 337394 tokens\n"
     ]
    }
   ],
   "source": [
    "report_lengths = train['report'].apply(lambda x: num_tokens_from_string(x))\n",
    "avg_report_length = report_lengths.mean()\n",
    "min_report_length = report_lengths.min()\n",
    "max_report_length = report_lengths.max()\n",
    "report_length_sum = report_lengths.sum()\n",
    "\n",
    "print(f\"Average report length: {avg_report_length:.2f} tokens\")\n",
    "print(f\"Minimum report length: {min_report_length} tokens\")\n",
    "print(f\"Maximum report length: {max_report_length} tokens\")\n",
    "print(f\"# The training dataset consists of: {report_length_sum} tokens\")\n"
   ]
  },
  {
   "cell_type": "code",
   "execution_count": 11,
   "id": "0c914a34",
   "metadata": {},
   "outputs": [
    {
     "name": "stdout",
     "output_type": "stream",
     "text": [
      "Fine-tuning of gpt-3.5-turbo costs ~ $2.70 per epoch\n"
     ]
    }
   ],
   "source": [
    "price_model = 0.0080   # Price for gpt-3.5-turbo per 1K tokens\n",
    "model = \"gpt-3.5-turbo\"\n",
    "price_per_epoch = (report_length_sum / 1000) * price_model \n",
    "print(f\"Fine-tuning of {model} costs ~ ${price_per_epoch:.2f} per epoch\") "
   ]
  },
  {
   "cell_type": "markdown",
   "id": "b7431eda",
   "metadata": {},
   "source": [
    "### Fine-tuning data formatting"
   ]
  },
  {
   "cell_type": "markdown",
   "id": "071b9bd9",
   "metadata": {},
   "source": [
    "We can now rearrange the dataset into the necessary format in order to start the fine tuning job.\n",
    "The format is as follows:\n",
    "\n",
    "```json\n",
    "{\"messages\": [{\"role\": \"system\", \"content\": \"Given the medical description report, classify it into one of these categories: [Cardiovascular / Pulmonary, Gastroenterology, Neurology, Radiology, Surgery]\"}, {\"role\": \"user\", \"content\": \"Medical Report\"}, {\"role\": \"assistant\", \"content\": \"The medical specialty assigned to this report\"}]}\n",
    "```"
   ]
  },
  {
   "cell_type": "code",
   "execution_count": 12,
   "id": "6a0489e4",
   "metadata": {},
   "outputs": [],
   "source": [
    "system_prompt = \"Given the medical description report, classify it into one of these categories: \" + \\\n",
    "                 \"[Cardiovascular / Pulmonary, Gastroenterology, Neurology, Radiology, Surgery]\""
   ]
  },
  {
   "cell_type": "code",
   "execution_count": 13,
   "id": "87ce0eed",
   "metadata": {},
   "outputs": [],
   "source": [
    "sample_prompt = {\"messages\": [{\"role\": \"system\", \"content\": system_prompt},\n",
    "                              {\"role\": \"user\", \"content\": train[\"report\"].iloc[0]},\n",
    "                              {\"role\": \"assistant\", \"content\": train[\"medical_specialty\"].iloc[0]}]}\n"
   ]
  },
  {
   "cell_type": "code",
   "execution_count": 14,
   "id": "b6b671b3",
   "metadata": {},
   "outputs": [
    {
     "name": "stdout",
     "output_type": "stream",
     "text": [
      "{'messages': [{'role': 'system', 'content': 'Given the medical description report, classify it into one of these categories: [Cardiovascular / Pulmonary, Gastroenterology, Neurology, Radiology, Surgery]'}, {'role': 'user', 'content': \"PREOPERATIVE DIAGNOSES:,1.  Lumbar osteomyelitis.,2.  Need for durable central intravenous access.,POSTOPERATIVE DIAGNOSES:,1.  Lumbar osteomyelitis.,2.  Need for durable central intravenous access.,ANESTHESIA:,  General.,PROCEDURE:,  Placement of left subclavian 4-French Broviac catheter.,INDICATIONS:  ,The patient is a toddler admitted with a limp and back pain, who was eventually found on bone scan and septic workup to have probable osteomyelitis of the lumbar spine at disk areas.  The patient needs prolonged IV antibiotic therapy, but attempt at a PICC line failed.  She has exhausted most of her easy peripheral IV access routes and referral was made to the Pediatric Surgery Service for Broviac placement.  I met with the patient's mom.  With the help of a Spanish interpreter, I explained the technique for Broviac placement.  We discussed the surgical risks and alternatives, most of which have been exhausted.  All their questions have been answered, and the patient is fit for operation today.,DESCRIPTION OF OPERATION:  ,The patient came to the operating room and had an uneventful induction of general anesthesia.  We conducted a surgical time-out to reiterate all of the patient's important identifying information and to confirm that we were here to place the Broviac catheter.  Preparation and draping of her skin was performed with chlorhexidine based prep solution and then an infraclavicular approach to left subclavian vein was performed.  A flexible guidewire was inserted into the central location and then a 4-French Broviac catheter was tunneled through the subcutaneous tissues and exiting on the right anterolateral chest wall well below and lateral to the breast and pectoralis major margins.  The catheter was brought to the subclavian insertion site and trimmed so that the tip would lie at the junction of the superior vena cava and right atrium based on fluoroscopic guidelines.  The peel-away sheath was passed over the guidewire and then the 4-French catheter was deployed through the peel-away sheath.  There was easy blood return and fluoroscopic imaging showed initially the catheter had transited across the mediastinum up the opposite subclavian vein, then it was withdrawn and easily replaced in the superior vena cava.  The catheter insertion site was closed with one buried 5-0 Monocryl stitch and the same 5-0 Monocryl was used to tether the catheter at the exit site until fibrous ingrowth of the attached cuff has occurred.  Heparinized saline solution was used to flush the line.  A sterile occlusive dressing was applied, and the line was prepared for immediate use.  The patient was transported to the recovery room in good condition.  There were no intraoperative complications, and her blood loss was between 5 and 10 mL during the line placement portion of the procedure.\"}, {'role': 'assistant', 'content': 'Cardiovascular / Pulmonary'}]}\n"
     ]
    }
   ],
   "source": [
    "print(sample_prompt)"
   ]
  },
  {
   "cell_type": "markdown",
   "id": "2cd89b94",
   "metadata": {},
   "source": [
    "Let's write a script that converts the dataframe into this format and stores everything as a json"
   ]
  },
  {
   "cell_type": "code",
   "execution_count": 15,
   "id": "cf1d87e6",
   "metadata": {},
   "outputs": [],
   "source": [
    "def df_to_format(df):\n",
    "    formatted_data = []\n",
    "    \n",
    "    # Iterate over each row in the dataframe\n",
    "    for index, row in df.iterrows():\n",
    "        entry = {\"messages\": [{\"role\": \"system\", \"content\": system_prompt},\n",
    "                              {\"role\": \"user\", \"content\": row[\"report\"]},\n",
    "                              {\"role\": \"assistant\", \"content\": row[\"medical_specialty\"]}]}\n",
    "\n",
    "        formatted_data.append(entry)\n",
    "\n",
    "    return formatted_data\n"
   ]
  },
  {
   "cell_type": "code",
   "execution_count": 16,
   "id": "b8c47cfc",
   "metadata": {},
   "outputs": [],
   "source": [
    "data = df_to_format(train)"
   ]
  },
  {
   "cell_type": "code",
   "execution_count": 17,
   "id": "fc29fbfd",
   "metadata": {},
   "outputs": [
    {
     "name": "stdout",
     "output_type": "stream",
     "text": [
      "{'messages': [{'role': 'system', 'content': 'Given the medical description report, classify it into one of these categories: [Cardiovascular / Pulmonary, Gastroenterology, Neurology, Radiology, Surgery]'}, {'role': 'user', 'content': 'PROCEDURE:, Esophagogastroduodenoscopy with biopsy and snare polypectomy.,INDICATION FOR THE PROCEDURE:, Iron-deficiency anemia.,MEDICATIONS:, MAC.,The risks of the procedure were made aware to the patient and consisted of medication reaction, bleeding, perforation, and aspiration.,PROCEDURE:, After informed consent and appropriate sedation, the upper endoscope was inserted into the oropharynx down into the stomach and beyond the pylorus and the second portion of the duodenum. The duodenal mucosa was completely normal. The pylorus was normal. In the stomach, there was evidence of diffuse atrophic-appearing nodular gastritis. Multiple biopsies were obtained. There also was a 1.5-cm adenomatous appearing polyp along the greater curvature at the junction of the body and antrum. There was mild ulceration on the tip of this polyp. It was decided to remove the polyp via snare polypectomy. Retroflexion was performed, and this revealed a small hiatal hernia in the distal esophagus. The Z-line was identified and was unremarkable. The esophageal mucosa was normal.,FINDINGS:,1. Hiatal hernia.,2. Diffuse nodular and atrophic appearing gastritis, biopsies taken.,3. A 1.5-cm polyp with ulceration along the greater curvature, removed.,RECOMMENDATIONS:,1. Follow up biopsies.,2. Continue PPI.,3. Hold Lovenox for 5 days.,4. Place SCDs.'}, {'role': 'assistant', 'content': 'Gastroenterology'}]}\n"
     ]
    }
   ],
   "source": [
    "print(data[100])"
   ]
  },
  {
   "cell_type": "markdown",
   "id": "a72bce32",
   "metadata": {},
   "source": [
    "Let's dump this list of dictionaries into the training file"
   ]
  },
  {
   "cell_type": "code",
   "execution_count": 18,
   "id": "3835b710",
   "metadata": {},
   "outputs": [],
   "source": [
    "import json\n",
    "with open('fine_tuning_data.jsonl', 'w') as f:\n",
    "    for entry in data:\n",
    "        f.write(json.dumps(entry))\n",
    "        f.write(\"\\n\")\n",
    "        \n",
    "        \n",
    "    \n"
   ]
  },
  {
   "cell_type": "markdown",
   "id": "8effe23c",
   "metadata": {},
   "source": [
    "### Val Data\n",
    "Let's perform the same operation for the validation data"
   ]
  },
  {
   "cell_type": "code",
   "execution_count": 19,
   "id": "00c1cb73",
   "metadata": {},
   "outputs": [],
   "source": [
    "val_data = df_to_format(val)"
   ]
  },
  {
   "cell_type": "code",
   "execution_count": 20,
   "id": "493ffbd1",
   "metadata": {},
   "outputs": [],
   "source": [
    "import json\n",
    "with open('fine_tuning_data_val.jsonl', 'w') as f:\n",
    "    for entry in val_data:\n",
    "        f.write(json.dumps(entry))\n",
    "        f.write(\"\\n\")\n",
    "        \n",
    "        \n",
    "    \n"
   ]
  },
  {
   "cell_type": "markdown",
   "id": "c2855e1c",
   "metadata": {},
   "source": [
    "## Sanity Checks\n",
    "Before starting the training process, we should check if any input exceeds the maximum of 4096 tokens. Additionally, let's make sure that there are no empty reports"
   ]
  },
  {
   "cell_type": "code",
   "execution_count": 21,
   "id": "01bb98dc",
   "metadata": {},
   "outputs": [],
   "source": [
    "def check_num_tokens(prompt):\n",
    "    prompt_text = \" \".join([content[\"content\"] for content in element[\"messages\"]])\n",
    "    tokens = num_tokens_from_string(prompt_text)\n",
    "    if tokens > 4000: # according to https://platform.openai.com/docs/guides/fine-tuning/token-limits\n",
    "        print(f\"Prompt {prompt} exceeds token limit!\")\n",
    "        return False\n",
    "    return True\n",
    "    \n",
    "def check_prompt(prompt):\n",
    "    \n",
    "    if len(prompt[\"messages\"][1][\"content\"]):\n",
    "        if len(prompt[\"messages\"][2][\"content\"]):\n",
    "            return True\n",
    "    print(f\"Prompt {prompt} is missing data!\")\n",
    "\n",
    "    return False\n"
   ]
  },
  {
   "cell_type": "markdown",
   "id": "c93ce613",
   "metadata": {},
   "source": [
    "We can now read the jsonl file and check each entry"
   ]
  },
  {
   "cell_type": "code",
   "execution_count": 22,
   "id": "770817a7",
   "metadata": {},
   "outputs": [],
   "source": [
    "with open('fine_tuning_data.jsonl', 'r') as f:\n",
    "    dataset = [json.loads(line) for line in f]\n"
   ]
  },
  {
   "cell_type": "code",
   "execution_count": 23,
   "id": "819fe86b",
   "metadata": {},
   "outputs": [],
   "source": [
    "for element in dataset:\n",
    "    assert check_num_tokens(element) and check_prompt(element)\n",
    "        "
   ]
  },
  {
   "cell_type": "code",
   "execution_count": 24,
   "id": "bb6330a2",
   "metadata": {},
   "outputs": [],
   "source": [
    "with open('fine_tuning_data_val.jsonl', 'r') as f:\n",
    "    dataset = [json.loads(line) for line in f]\n",
    "\n",
    "for element in dataset:\n",
    "    assert check_num_tokens(element) and check_prompt(element)\n",
    "        "
   ]
  },
  {
   "cell_type": "markdown",
   "id": "9d4b8459",
   "metadata": {},
   "source": [
    "Great! There are no violations!"
   ]
  },
  {
   "cell_type": "markdown",
   "id": "a6ff47b2",
   "metadata": {},
   "source": [
    "## Training\n",
    "Now it's time to start the training process"
   ]
  },
  {
   "cell_type": "code",
   "execution_count": 19,
   "id": "f6027b47",
   "metadata": {},
   "outputs": [],
   "source": [
    "import os\n",
    "import openai\n",
    "openai.api_key = \"\"\n",
    "openai.organization = \"\""
   ]
  },
  {
   "cell_type": "markdown",
   "id": "6009cf97",
   "metadata": {},
   "source": [
    "At first we need to upload the fine-tuning data to openai using the **File.create** [method](https://platform.openai.com/docs/api-reference/files/create) to which you need to pass the binary file object and a purpose (fine-tuning in our case). If you pass \"fine-tuning\" as purpose, openai validates the file structure once more"
   ]
  },
  {
   "cell_type": "code",
   "execution_count": 33,
   "id": "0e3e6882",
   "metadata": {},
   "outputs": [],
   "source": [
    "file_upload_response = openai.files.create(\n",
    "  file=open(\"fine_tuning_data.jsonl\", \"rb\"),\n",
    "  purpose='fine-tune'\n",
    ")\n"
   ]
  },
  {
   "cell_type": "code",
   "execution_count": 34,
   "id": "63352817",
   "metadata": {},
   "outputs": [
    {
     "data": {
      "text/plain": [
       "FileObject(id='file-ijt1aO7FPVGG62HUdOuRIHEA', bytes=1544122, created_at=1718545976, filename='fine_tuning_data.jsonl', object='file', purpose='fine-tune', status='processed', status_details=None)"
      ]
     },
     "execution_count": 34,
     "metadata": {},
     "output_type": "execute_result"
    }
   ],
   "source": [
    "file_upload_response"
   ]
  },
  {
   "cell_type": "markdown",
   "id": "290ea56b",
   "metadata": {},
   "source": [
    "Uploading the File object might take a while.\n",
    "You can navigate to https://platform.openai.com/files to check if your file has been processed.\n",
    "Alternativeley, you can use **File.retrieve(file_id)**\n"
   ]
  },
  {
   "cell_type": "code",
   "execution_count": 39,
   "id": "c81f46d8",
   "metadata": {},
   "outputs": [
    {
     "data": {
      "text/plain": [
       "FileObject(id='file-ijt1aO7FPVGG62HUdOuRIHEA', bytes=1544122, created_at=1718545976, filename='fine_tuning_data.jsonl', object='file', purpose='fine-tune', status='processed', status_details=None)"
      ]
     },
     "execution_count": 39,
     "metadata": {},
     "output_type": "execute_result"
    }
   ],
   "source": [
    "openai.files.retrieve(file_upload_response.id)"
   ]
  },
  {
   "cell_type": "markdown",
   "id": "58ded300",
   "metadata": {},
   "source": [
    "Perform the same steps for the val data"
   ]
  },
  {
   "cell_type": "code",
   "execution_count": 40,
   "id": "8fee50f1",
   "metadata": {},
   "outputs": [],
   "source": [
    "file_upload_response_val = openai.files.create(\n",
    "  file=open(\"fine_tuning_data_val.jsonl\", \"rb\"),\n",
    "  purpose='fine-tune'\n",
    ")\n"
   ]
  },
  {
   "cell_type": "code",
   "execution_count": 41,
   "id": "54a3c0ed",
   "metadata": {},
   "outputs": [
    {
     "data": {
      "text/plain": [
       "FileObject(id='file-BWCePjfzhS0lQKEfwxehpPNm', bytes=101509, created_at=1718546130, filename='fine_tuning_data_val.jsonl', object='file', purpose='fine-tune', status='processed', status_details=None)"
      ]
     },
     "execution_count": 41,
     "metadata": {},
     "output_type": "execute_result"
    }
   ],
   "source": [
    "openai.files.retrieve(file_upload_response_val.id)"
   ]
  },
  {
   "cell_type": "markdown",
   "id": "71a3b0eb",
   "metadata": {},
   "source": [
    "Now it's time to start the [training process](https://platform.openai.com/docs/api-reference/fine-tuning/create):\n",
    "\n",
    "To start the training routine we can call FineTuningJob.create which accepts the following arguments:\n",
    "- object\n",
    "- id\n",
    "- model\n",
    "- created_at\n",
    "- fine_tuned_model\n",
    "- organization_id\n",
    "- result_files\n",
    "- status\n",
    "- validation_file\n",
    "- training_file\n",
    "\n",
    "Only *model* and *training_file* are required, the remaining arguments are optional.\n",
    "You can specify the number of epochs using the hyperparameter argument. Currently *n_epochs* is the only hyperparameter available.\n"
   ]
  },
  {
   "cell_type": "code",
   "execution_count": 42,
   "id": "58589286",
   "metadata": {},
   "outputs": [],
   "source": [
    "fine_tuning_response = openai.fine_tuning.jobs.create(training_file=file_upload_response.id,\n",
    "                            model=\"gpt-3.5-turbo\",\n",
    "                            hyperparameters={\"n_epochs\": 1},\n",
    "                            validation_file = file_upload_response_val.id)"
   ]
  },
  {
   "cell_type": "markdown",
   "id": "6f5afb8f",
   "metadata": {},
   "source": [
    "To obtain the log, you can use *FineTuningJob.list_events* to which you pass the job id and a limit if you want "
   ]
  },
  {
   "cell_type": "code",
   "execution_count": 43,
   "id": "16510ae2",
   "metadata": {},
   "outputs": [
    {
     "data": {
      "text/plain": [
       "'ftjob-zXnSyF5e3HLMJms02ngWkHAL'"
      ]
     },
     "execution_count": 43,
     "metadata": {},
     "output_type": "execute_result"
    }
   ],
   "source": [
    "fine_tuning_response.id"
   ]
  },
  {
   "cell_type": "code",
   "execution_count": 3,
   "id": "44b37e1b",
   "metadata": {},
   "outputs": [
    {
     "data": {
      "text/plain": [
       "SyncCursorPage[FineTuningJob](data=[FineTuningJob(id='ftjob-zXnSyF5e3HLMJms02ngWkHAL', created_at=1718546199, error=Error(code=None, message=None, param=None), fine_tuned_model='ft:gpt-3.5-turbo-0125:personal::9al2gCXA', finished_at=1718547666, hyperparameters=Hyperparameters(n_epochs=1, batch_size=1, learning_rate_multiplier=2), model='gpt-3.5-turbo-0125', object='fine_tuning.job', organization_id='org-xh4bwGxN2nxc0BLF3cXlsPR2', result_files=['file-4UVXpgKvM59pIfCt5zGRaEfT'], status='succeeded', trained_tokens=363094, training_file='file-ijt1aO7FPVGG62HUdOuRIHEA', validation_file='file-BWCePjfzhS0lQKEfwxehpPNm', user_provided_suffix=None, seed=501441353, estimated_finish=None, integrations=[])], object='list', has_more=False)"
      ]
     },
     "execution_count": 3,
     "metadata": {},
     "output_type": "execute_result"
    }
   ],
   "source": [
    "openai.fine_tuning.jobs.list(limit=10)\n"
   ]
  },
  {
   "cell_type": "markdown",
   "id": "bcdb2307",
   "metadata": {},
   "source": [
    "### Plot losses\n",
    "We can use *FineTuningJob.list_events* to obtain all event data and plot the training metrics.\n",
    "Note that if you do not pass a limit, openai will not automatically grab all data. Thus, it's best to pass a large limit"
   ]
  },
  {
   "cell_type": "code",
   "execution_count": 14,
   "id": "048d90bc",
   "metadata": {},
   "outputs": [
    {
     "data": {
      "text/plain": [
       "[FineTuningJobEvent(id='ftevent-yndmrjgU17dbgn8dx0wd96vZ', created_at=1718547670, level='info', message='The job has successfully completed', object='fine_tuning.job.event', data={}, type='message'),\n",
       " FineTuningJobEvent(id='ftevent-yo4PQcXaq1rMLeocTtNgVjhY', created_at=1718547667, level='info', message='New fine-tuned model created: ft:gpt-3.5-turbo-0125:personal::9al2gCXA', object='fine_tuning.job.event', data={}, type='message'),\n",
       " FineTuningJobEvent(id='ftevent-9bs4nJF7GFdR9MPjK84FXX7O', created_at=1718547664, level='info', message='Step 500/500: training loss=0.00, validation loss=0.00, full validation loss=0.39', object='fine_tuning.job.event', data={'step': 500, 'train_loss': 4.76837158203125e-07, 'valid_loss': 4.76837158203125e-07, 'total_steps': 500, 'full_valid_loss': 0.3948211811206959, 'train_mean_token_accuracy': 1.0, 'valid_mean_token_accuracy': 1.0, 'full_valid_mean_token_accuracy': 0.9555555555555556}, type='metrics'),\n",
       " FineTuningJobEvent(id='ftevent-U3BCPrlI3Oo2PM1yNii5yrMO', created_at=1718547659, level='info', message='Step 499/500: training loss=0.00', object='fine_tuning.job.event', data={'step': 499, 'train_loss': 2.384185791015625e-07, 'total_steps': 500, 'train_mean_token_accuracy': 1.0}, type='metrics'),\n",
       " FineTuningJobEvent(id='ftevent-PUdWsUIaIgVJaBuXU4C3ZCxg', created_at=1718547655, level='info', message='Step 498/500: training loss=1.18', object='fine_tuning.job.event', data={'step': 498, 'train_loss': 1.1815557479858398, 'total_steps': 500, 'train_mean_token_accuracy': 0.75}, type='metrics'),\n",
       " FineTuningJobEvent(id='ftevent-hhBl0UOjyaC7pV4nhXNrB8Rd', created_at=1718547655, level='info', message='Step 497/500: training loss=0.00', object='fine_tuning.job.event', data={'step': 497, 'train_loss': 3.178914482759865e-07, 'total_steps': 500, 'train_mean_token_accuracy': 1.0}, type='metrics'),\n",
       " FineTuningJobEvent(id='ftevent-xMmUXD3qNtUHQ5IKBxB1fU9G', created_at=1718547652, level='info', message='Step 496/500: training loss=0.00', object='fine_tuning.job.event', data={'step': 496, 'train_loss': 7.629394644936838e-07, 'total_steps': 500, 'train_mean_token_accuracy': 1.0}, type='metrics'),\n",
       " FineTuningJobEvent(id='ftevent-2ScNXCqYbi29OgmeyACfAqLr', created_at=1718547649, level='info', message='Step 495/500: training loss=0.00', object='fine_tuning.job.event', data={'step': 495, 'train_loss': 3.178914482759865e-07, 'total_steps': 500, 'train_mean_token_accuracy': 1.0}, type='metrics'),\n",
       " FineTuningJobEvent(id='ftevent-8nrhNAEZXL8LA3j1dUwe1awF', created_at=1718547647, level='info', message='Step 494/500: training loss=0.00', object='fine_tuning.job.event', data={'step': 494, 'train_loss': 2.384185791015625e-07, 'total_steps': 500, 'train_mean_token_accuracy': 1.0}, type='metrics'),\n",
       " FineTuningJobEvent(id='ftevent-SDcKI1PcmU3JhQPzabueG681', created_at=1718547645, level='info', message='Step 493/500: training loss=0.00', object='fine_tuning.job.event', data={'step': 493, 'train_loss': 4.76837158203125e-07, 'total_steps': 500, 'train_mean_token_accuracy': 1.0}, type='metrics')]"
      ]
     },
     "execution_count": 14,
     "metadata": {},
     "output_type": "execute_result"
    }
   ],
   "source": [
    "train_event = openai.fine_tuning.jobs.list_events(fine_tuning_job_id=\"ftjob-zXnSyF5e3HLMJms02ngWkHAL\", limit=10)\n",
    "train_event.data"
   ]
  },
  {
   "cell_type": "code",
   "execution_count": 10,
   "id": "36ef4e98",
   "metadata": {},
   "outputs": [
    {
     "data": {
      "text/plain": [
       "SyncCursorPage[FineTuningJobEvent](data=[FineTuningJobEvent(id='ftevent-yndmrjgU17dbgn8dx0wd96vZ', created_at=1718547670, level='info', message='The job has successfully completed', object='fine_tuning.job.event', data={}, type='message'), FineTuningJobEvent(id='ftevent-yo4PQcXaq1rMLeocTtNgVjhY', created_at=1718547667, level='info', message='New fine-tuned model created: ft:gpt-3.5-turbo-0125:personal::9al2gCXA', object='fine_tuning.job.event', data={}, type='message'), FineTuningJobEvent(id='ftevent-9bs4nJF7GFdR9MPjK84FXX7O', created_at=1718547664, level='info', message='Step 500/500: training loss=0.00, validation loss=0.00, full validation loss=0.39', object='fine_tuning.job.event', data={'step': 500, 'train_loss': 4.76837158203125e-07, 'valid_loss': 4.76837158203125e-07, 'total_steps': 500, 'full_valid_loss': 0.3948211811206959, 'train_mean_token_accuracy': 1.0, 'valid_mean_token_accuracy': 1.0, 'full_valid_mean_token_accuracy': 0.9555555555555556}, type='metrics'), FineTuningJobEvent(id='ftevent-U3BCPrlI3Oo2PM1yNii5yrMO', created_at=1718547659, level='info', message='Step 499/500: training loss=0.00', object='fine_tuning.job.event', data={'step': 499, 'train_loss': 2.384185791015625e-07, 'total_steps': 500, 'train_mean_token_accuracy': 1.0}, type='metrics'), FineTuningJobEvent(id='ftevent-PUdWsUIaIgVJaBuXU4C3ZCxg', created_at=1718547655, level='info', message='Step 498/500: training loss=1.18', object='fine_tuning.job.event', data={'step': 498, 'train_loss': 1.1815557479858398, 'total_steps': 500, 'train_mean_token_accuracy': 0.75}, type='metrics'), FineTuningJobEvent(id='ftevent-hhBl0UOjyaC7pV4nhXNrB8Rd', created_at=1718547655, level='info', message='Step 497/500: training loss=0.00', object='fine_tuning.job.event', data={'step': 497, 'train_loss': 3.178914482759865e-07, 'total_steps': 500, 'train_mean_token_accuracy': 1.0}, type='metrics'), FineTuningJobEvent(id='ftevent-xMmUXD3qNtUHQ5IKBxB1fU9G', created_at=1718547652, level='info', message='Step 496/500: training loss=0.00', object='fine_tuning.job.event', data={'step': 496, 'train_loss': 7.629394644936838e-07, 'total_steps': 500, 'train_mean_token_accuracy': 1.0}, type='metrics'), FineTuningJobEvent(id='ftevent-2ScNXCqYbi29OgmeyACfAqLr', created_at=1718547649, level='info', message='Step 495/500: training loss=0.00', object='fine_tuning.job.event', data={'step': 495, 'train_loss': 3.178914482759865e-07, 'total_steps': 500, 'train_mean_token_accuracy': 1.0}, type='metrics'), FineTuningJobEvent(id='ftevent-8nrhNAEZXL8LA3j1dUwe1awF', created_at=1718547647, level='info', message='Step 494/500: training loss=0.00', object='fine_tuning.job.event', data={'step': 494, 'train_loss': 2.384185791015625e-07, 'total_steps': 500, 'train_mean_token_accuracy': 1.0}, type='metrics'), FineTuningJobEvent(id='ftevent-SDcKI1PcmU3JhQPzabueG681', created_at=1718547645, level='info', message='Step 493/500: training loss=0.00', object='fine_tuning.job.event', data={'step': 493, 'train_loss': 4.76837158203125e-07, 'total_steps': 500, 'train_mean_token_accuracy': 1.0}, type='metrics')], object='list', has_more=True)"
      ]
     },
     "execution_count": 10,
     "metadata": {},
     "output_type": "execute_result"
    }
   ],
   "source": [
    "openai.fine_tuning.jobs.list_events(fine_tuning_job_id=\"ftjob-zXnSyF5e3HLMJms02ngWkHAL\", limit=10)"
   ]
  },
  {
   "cell_type": "code",
   "execution_count": 17,
   "id": "e40669e9",
   "metadata": {},
   "outputs": [],
   "source": [
    "train_loss = []\n",
    "val_loss = []\n",
    "train_acc = []\n",
    "val_acc = []\n",
    "for item in train_event.data:\n",
    "    train_data = item.data\n",
    "    if train_data and \"train_loss\" in train_data:\n",
    "        \n",
    "        # As the event list returns the most current event at first, we don't want to append but insert\n",
    "        train_loss.insert(0, train_data[\"train_loss\"])\n",
    "        #val_loss.insert(0, train_data[\"valid_loss\"])\n",
    "        train_acc.insert(0, train_data[\"train_mean_token_accuracy\"])\n",
    "        #val_acc.insert(0, train_data[\"valid_mean_token_accuracy\"])\n"
   ]
  },
  {
   "cell_type": "code",
   "execution_count": 18,
   "id": "56afec38",
   "metadata": {},
   "outputs": [
    {
     "data": {
      "text/plain": [
       "[<matplotlib.lines.Line2D at 0x20c7e008ac0>]"
      ]
     },
     "execution_count": 18,
     "metadata": {},
     "output_type": "execute_result"
    },
    {
     "data": {
      "image/png": "[encoded data removed]",
      "text/plain": [
       "<Figure size 640x480 with 1 Axes>"
      ]
     },
     "metadata": {},
     "output_type": "display_data"
    }
   ],
   "source": [
    "import matplotlib.pyplot as plt\n",
    "plt.figure()\n",
    "plt.plot(train_loss)\n",
    "#plt.plot(val_loss)"
   ]
  },
  {
   "cell_type": "markdown",
   "id": "598fc9fc",
   "metadata": {},
   "source": [
    "## Application\n",
    "To use the fine-tuned model, we just need to pass it to *ChatCompletion.create* and proceed as usual.\n",
    "You can grab the model name either via the openai [fine-tuning dashboard](https://platform.openai.com/finetune/) or using *openai.FineTuningJob.retrieve(id)*"
   ]
  },
  {
   "cell_type": "code",
   "execution_count": null,
   "id": "9dec75cb",
   "metadata": {},
   "outputs": [
    {
     "data": {
      "text/plain": [
       "'ft:gpt-3.5-turbo-0613:pierian-training::8IjdNdPL'"
      ]
     },
     "execution_count": 25,
     "metadata": {},
     "output_type": "execute_result"
    }
   ],
   "source": [
    "openai.FineTuningJob.retrieve(\"ftjob-0ZB6FD70DnweK1F6euj03SNg\")[\"fine_tuned_model\"]"
   ]
  },
  {
   "cell_type": "code",
   "execution_count": null,
   "id": "c6cecb2e",
   "metadata": {},
   "outputs": [
    {
     "data": {
      "text/plain": [
       "'INDICATIONS: , The patient is a 22-year-old female with past medical history of syncope.  The patient is also complaining of dizziness.  She was referred here by Dr. X for tilt table.,TECHNIQUE: , Risks and benefits explained to the patient.  Consent obtained.  She was lying down on her back for 20 minutes and her blood pressure was 111/75 and heart rate 89.  She was standing up on the tilt tablet for 20 minutes and her heart rate went up to 127 and blood pressure was still in 120/80.  Then, the patient received sublingual nitroglycerin 0.4 mg.  The patient felt dizzy at that time and heart rate was in the 120 and blood pressure was 110/50.  The patient felt nauseous and felt hot at that time.  She did not pass out.,COMPLICATIONS:,  None.,Tilt table was then terminated.,SUMMARY:,  Positive tilt table for vasovagal syncope with significant increase of heart rate with minimal decrease of blood pressure.,RECOMMENDATIONS: , I recommend followup in the office in one week and she will need Toprol-XL 12.5 mg every day if symptoms persist.'"
      ]
     },
     "execution_count": 26,
     "metadata": {},
     "output_type": "execute_result"
    }
   ],
   "source": [
    "test[\"report\"].iloc[1]"
   ]
  },
  {
   "cell_type": "code",
   "execution_count": null,
   "id": "86ff9094",
   "metadata": {},
   "outputs": [
    {
     "name": "stdout",
     "output_type": "stream",
     "text": [
      "{\n",
      "  \"role\": \"assistant\",\n",
      "  \"content\": \"Cardiovascular / Pulmonary\"\n",
      "}\n"
     ]
    }
   ],
   "source": [
    "completion = openai.ChatCompletion.create(\n",
    "    model = \"ft:gpt-3.5-turbo-0613:pierian-training::8IjdNdPL\", \n",
    "  messages=[\n",
    "    {\"role\": \"system\", \"content\": system_prompt},\n",
    "    {\"role\": \"user\", \"content\": test[\"report\"].iloc[1]}\n",
    "  ]\n",
    ")\n",
    "print(completion.choices[0].message)\n"
   ]
  },
  {
   "cell_type": "code",
   "execution_count": null,
   "id": "d8a1f75d",
   "metadata": {},
   "outputs": [
    {
     "data": {
      "text/plain": [
       "'Cardiovascular / Pulmonary'"
      ]
     },
     "execution_count": 28,
     "metadata": {},
     "output_type": "execute_result"
    }
   ],
   "source": [
    "test[\"medical_specialty\"].iloc[1]"
   ]
  },
  {
   "cell_type": "markdown",
   "id": "8c7be5c4",
   "metadata": {},
   "source": [
    "Let's loop over the test data and count how many reports are classified correctly"
   ]
  },
  {
   "cell_type": "code",
   "execution_count": null,
   "id": "b18d94bb",
   "metadata": {},
   "outputs": [],
   "source": [
    "def classify_report(report):\n",
    "    completion = openai.ChatCompletion.create(\n",
    "                    model = \"ft:gpt-3.5-turbo-0613:pierian-training::8IjdNdPL\", \n",
    "                    # model = \"gpt-3.5-turbo\",\n",
    "                    messages=[\n",
    "                            {\"role\": \"system\", \"content\": system_prompt},\n",
    "                            {\"role\": \"user\", \"content\": report}\n",
    "                          ]\n",
    "                        )\n",
    "    return completion\n"
   ]
  },
  {
   "cell_type": "code",
   "execution_count": null,
   "id": "245dd3a7",
   "metadata": {},
   "outputs": [
    {
     "data": {
      "text/html": [
       "<div>\n",
       "<style scoped>\n",
       "    .dataframe tbody tr th:only-of-type {\n",
       "        vertical-align: middle;\n",
       "    }\n",
       "\n",
       "    .dataframe tbody tr th {\n",
       "        vertical-align: top;\n",
       "    }\n",
       "\n",
       "    .dataframe thead th {\n",
       "        text-align: right;\n",
       "    }\n",
       "</style>\n",
       "<table border=\"1\" class=\"dataframe\">\n",
       "  <thead>\n",
       "    <tr style=\"text-align: right;\">\n",
       "      <th></th>\n",
       "      <th>medical_specialty</th>\n",
       "      <th>report</th>\n",
       "    </tr>\n",
       "  </thead>\n",
       "  <tbody>\n",
       "    <tr>\n",
       "      <th>2016</th>\n",
       "      <td>Cardiovascular / Pulmonary</td>\n",
       "      <td>CLINICAL INDICATION:,  Chest pain.,INTERPRETAT...</td>\n",
       "    </tr>\n",
       "    <tr>\n",
       "      <th>1833</th>\n",
       "      <td>Cardiovascular / Pulmonary</td>\n",
       "      <td>INDICATIONS: , The patient is a 22-year-old fe...</td>\n",
       "    </tr>\n",
       "    <tr>\n",
       "      <th>1932</th>\n",
       "      <td>Cardiovascular / Pulmonary</td>\n",
       "      <td>REASON FOR CONSULTATION: , Loculated left effu...</td>\n",
       "    </tr>\n",
       "    <tr>\n",
       "      <th>1949</th>\n",
       "      <td>Cardiovascular / Pulmonary</td>\n",
       "      <td>PREOPERATIVE DIAGNOSIS:,  Right middle lobe lu...</td>\n",
       "    </tr>\n",
       "    <tr>\n",
       "      <th>1847</th>\n",
       "      <td>Cardiovascular / Pulmonary</td>\n",
       "      <td>POSTOPERATIVE DIAGNOSIS: , Type 4 thoracoabdom...</td>\n",
       "    </tr>\n",
       "    <tr>\n",
       "      <th>1639</th>\n",
       "      <td>Gastroenterology</td>\n",
       "      <td>PREOPERATIVE DIAGNOSIS:,1.  Cholelithiasis.,2....</td>\n",
       "    </tr>\n",
       "    <tr>\n",
       "      <th>1735</th>\n",
       "      <td>Gastroenterology</td>\n",
       "      <td>EXAM: , CT of the abdomen and pelvis without c...</td>\n",
       "    </tr>\n",
       "    <tr>\n",
       "      <th>1781</th>\n",
       "      <td>Gastroenterology</td>\n",
       "      <td>REASON FOR CONSULTATION: , I was asked by Dr. ...</td>\n",
       "    </tr>\n",
       "    <tr>\n",
       "      <th>1670</th>\n",
       "      <td>Gastroenterology</td>\n",
       "      <td>DIAGNOSIS ON ADMISSION: , Gastrointestinal ble...</td>\n",
       "    </tr>\n",
       "    <tr>\n",
       "      <th>1776</th>\n",
       "      <td>Gastroenterology</td>\n",
       "      <td>PROCEDURE:,  Colonoscopy.,PREOPERATIVE DIAGNOS...</td>\n",
       "    </tr>\n",
       "    <tr>\n",
       "      <th>1459</th>\n",
       "      <td>Neurology</td>\n",
       "      <td>REASON FOR VISIT: , This is a new patient eval...</td>\n",
       "    </tr>\n",
       "    <tr>\n",
       "      <th>1453</th>\n",
       "      <td>Neurology</td>\n",
       "      <td>CC:, Left sided weakness.,HX:, 74 y/o RHF awok...</td>\n",
       "    </tr>\n",
       "    <tr>\n",
       "      <th>1562</th>\n",
       "      <td>Neurology</td>\n",
       "      <td>PREOPERATIVE DIAGNOSIS: , Right chronic subdur...</td>\n",
       "    </tr>\n",
       "    <tr>\n",
       "      <th>1589</th>\n",
       "      <td>Neurology</td>\n",
       "      <td>REASON FOR VISIT: , The patient is a 74-year-o...</td>\n",
       "    </tr>\n",
       "    <tr>\n",
       "      <th>1549</th>\n",
       "      <td>Neurology</td>\n",
       "      <td>PREOPERATIVE DIAGNOSIS:,  Acute left subdural ...</td>\n",
       "    </tr>\n",
       "    <tr>\n",
       "      <th>1129</th>\n",
       "      <td>Radiology</td>\n",
       "      <td>EXAM:  ,Three views of the right foot.,REASON ...</td>\n",
       "    </tr>\n",
       "    <tr>\n",
       "      <th>1314</th>\n",
       "      <td>Radiology</td>\n",
       "      <td>CT ABDOMEN WITH AND WITHOUT CONTRAST AND CT PE...</td>\n",
       "    </tr>\n",
       "    <tr>\n",
       "      <th>1204</th>\n",
       "      <td>Radiology</td>\n",
       "      <td>CC: ,Motor vehicle-bicycle collision.,HX:, A 5...</td>\n",
       "    </tr>\n",
       "    <tr>\n",
       "      <th>1348</th>\n",
       "      <td>Radiology</td>\n",
       "      <td>PROCEDURE PERFORMED:,1.  Selective ascending a...</td>\n",
       "    </tr>\n",
       "    <tr>\n",
       "      <th>1335</th>\n",
       "      <td>Radiology</td>\n",
       "      <td>CC:, Transient visual field loss.,HX: ,This 58...</td>\n",
       "    </tr>\n",
       "    <tr>\n",
       "      <th>906</th>\n",
       "      <td>Surgery</td>\n",
       "      <td>PROCEDURE PERFORMED:,1.  Right femoral artery ...</td>\n",
       "    </tr>\n",
       "    <tr>\n",
       "      <th>225</th>\n",
       "      <td>Surgery</td>\n",
       "      <td>HISTORY: , The patient is a 19-year-old boy wi...</td>\n",
       "    </tr>\n",
       "    <tr>\n",
       "      <th>116</th>\n",
       "      <td>Surgery</td>\n",
       "      <td>PREOPERATIVE DIAGNOSIS:,  Rule out temporal ar...</td>\n",
       "    </tr>\n",
       "    <tr>\n",
       "      <th>631</th>\n",
       "      <td>Surgery</td>\n",
       "      <td>PREOPERATIVE DIAGNOSIS: , Right upper eyelid s...</td>\n",
       "    </tr>\n",
       "    <tr>\n",
       "      <th>948</th>\n",
       "      <td>Surgery</td>\n",
       "      <td>OPERATIVE PROCEDURE:,  Bronchoscopy brushings,...</td>\n",
       "    </tr>\n",
       "  </tbody>\n",
       "</table>\n",
       "</div>"
      ],
      "text/plain": [
       "               medical_specialty  \\\n",
       "2016  Cardiovascular / Pulmonary   \n",
       "1833  Cardiovascular / Pulmonary   \n",
       "1932  Cardiovascular / Pulmonary   \n",
       "1949  Cardiovascular / Pulmonary   \n",
       "1847  Cardiovascular / Pulmonary   \n",
       "1639            Gastroenterology   \n",
       "1735            Gastroenterology   \n",
       "1781            Gastroenterology   \n",
       "1670            Gastroenterology   \n",
       "1776            Gastroenterology   \n",
       "1459                   Neurology   \n",
       "1453                   Neurology   \n",
       "1562                   Neurology   \n",
       "1589                   Neurology   \n",
       "1549                   Neurology   \n",
       "1129                   Radiology   \n",
       "1314                   Radiology   \n",
       "1204                   Radiology   \n",
       "1348                   Radiology   \n",
       "1335                   Radiology   \n",
       "906                      Surgery   \n",
       "225                      Surgery   \n",
       "116                      Surgery   \n",
       "631                      Surgery   \n",
       "948                      Surgery   \n",
       "\n",
       "                                                 report  \n",
       "2016  CLINICAL INDICATION:,  Chest pain.,INTERPRETAT...  \n",
       "1833  INDICATIONS: , The patient is a 22-year-old fe...  \n",
       "1932  REASON FOR CONSULTATION: , Loculated left effu...  \n",
       "1949  PREOPERATIVE DIAGNOSIS:,  Right middle lobe lu...  \n",
       "1847  POSTOPERATIVE DIAGNOSIS: , Type 4 thoracoabdom...  \n",
       "1639  PREOPERATIVE DIAGNOSIS:,1.  Cholelithiasis.,2....  \n",
       "1735  EXAM: , CT of the abdomen and pelvis without c...  \n",
       "1781  REASON FOR CONSULTATION: , I was asked by Dr. ...  \n",
       "1670  DIAGNOSIS ON ADMISSION: , Gastrointestinal ble...  \n",
       "1776  PROCEDURE:,  Colonoscopy.,PREOPERATIVE DIAGNOS...  \n",
       "1459  REASON FOR VISIT: , This is a new patient eval...  \n",
       "1453  CC:, Left sided weakness.,HX:, 74 y/o RHF awok...  \n",
       "1562  PREOPERATIVE DIAGNOSIS: , Right chronic subdur...  \n",
       "1589  REASON FOR VISIT: , The patient is a 74-year-o...  \n",
       "1549  PREOPERATIVE DIAGNOSIS:,  Acute left subdural ...  \n",
       "1129  EXAM:  ,Three views of the right foot.,REASON ...  \n",
       "1314  CT ABDOMEN WITH AND WITHOUT CONTRAST AND CT PE...  \n",
       "1204  CC: ,Motor vehicle-bicycle collision.,HX:, A 5...  \n",
       "1348  PROCEDURE PERFORMED:,1.  Selective ascending a...  \n",
       "1335  CC:, Transient visual field loss.,HX: ,This 58...  \n",
       "906   PROCEDURE PERFORMED:,1.  Right femoral artery ...  \n",
       "225   HISTORY: , The patient is a 19-year-old boy wi...  \n",
       "116   PREOPERATIVE DIAGNOSIS:,  Rule out temporal ar...  \n",
       "631   PREOPERATIVE DIAGNOSIS: , Right upper eyelid s...  \n",
       "948   OPERATIVE PROCEDURE:,  Bronchoscopy brushings,...  "
      ]
     },
     "execution_count": 30,
     "metadata": {},
     "output_type": "execute_result"
    }
   ],
   "source": [
    "test"
   ]
  },
  {
   "cell_type": "code",
   "execution_count": null,
   "id": "8915b303",
   "metadata": {},
   "outputs": [],
   "source": [
    "predicted_classes = []\n",
    "ground_truth_classes = []\n",
    "for line in test.iterrows():\n",
    "    report, specialty = line[1][\"report\"], line[1][\"medical_specialty\"]\n",
    "    ground_truth_classes.append(specialty.strip())  # in case of any trailing\n",
    "    prediction = classify_report(report)\n",
    "    predicted_classes.append(prediction.choices[0].message[\"content\"].strip())\n",
    "    \n",
    "    "
   ]
  },
  {
   "cell_type": "code",
   "execution_count": null,
   "id": "0a4877bf",
   "metadata": {},
   "outputs": [],
   "source": [
    "import numpy as np"
   ]
  },
  {
   "cell_type": "code",
   "execution_count": null,
   "id": "59996277",
   "metadata": {},
   "outputs": [
    {
     "data": {
      "text/plain": [
       "0.68"
      ]
     },
     "execution_count": 33,
     "metadata": {},
     "output_type": "execute_result"
    }
   ],
   "source": [
    "(np.array(predicted_classes) == np.array(ground_truth_classes)).mean()"
   ]
  },
  {
   "cell_type": "code",
   "execution_count": null,
   "id": "9096a2ff",
   "metadata": {},
   "outputs": [
    {
     "data": {
      "text/plain": [
       "['Cardiovascular / Pulmonary',\n",
       " 'Cardiovascular / Pulmonary',\n",
       " 'Cardiovascular / Pulmonary',\n",
       " 'Cardiovascular / Pulmonary',\n",
       " 'Surgery',\n",
       " 'Gastroenterology',\n",
       " 'Gastroenterology',\n",
       " 'Gastroenterology',\n",
       " 'Gastroenterology',\n",
       " 'Gastroenterology',\n",
       " 'Neurology',\n",
       " 'Neurology',\n",
       " 'Neurology',\n",
       " 'Neurology',\n",
       " 'Neurology',\n",
       " 'Radiology',\n",
       " 'Gastroenterology',\n",
       " 'Neurology',\n",
       " 'Cardiovascular / Pulmonary',\n",
       " 'Neurology',\n",
       " 'Cardiovascular / Pulmonary',\n",
       " 'Cardiovascular / Pulmonary',\n",
       " 'Surgery',\n",
       " 'Surgery',\n",
       " 'Cardiovascular / Pulmonary']"
      ]
     },
     "execution_count": 38,
     "metadata": {},
     "output_type": "execute_result"
    }
   ],
   "source": [
    "predicted_classes"
   ]
  },
  {
   "cell_type": "code",
   "execution_count": null,
   "id": "0d72bace",
   "metadata": {},
   "outputs": [
    {
     "data": {
      "text/plain": [
       "['Cardiovascular / Pulmonary',\n",
       " 'Cardiovascular / Pulmonary',\n",
       " 'Cardiovascular / Pulmonary',\n",
       " 'Cardiovascular / Pulmonary',\n",
       " 'Cardiovascular / Pulmonary',\n",
       " 'Gastroenterology',\n",
       " 'Gastroenterology',\n",
       " 'Gastroenterology',\n",
       " 'Gastroenterology',\n",
       " 'Gastroenterology',\n",
       " 'Neurology',\n",
       " 'Neurology',\n",
       " 'Neurology',\n",
       " 'Neurology',\n",
       " 'Neurology',\n",
       " 'Radiology',\n",
       " 'Radiology',\n",
       " 'Radiology',\n",
       " 'Radiology',\n",
       " 'Radiology',\n",
       " 'Surgery',\n",
       " 'Surgery',\n",
       " 'Surgery',\n",
       " 'Surgery',\n",
       " 'Surgery']"
      ]
     },
     "execution_count": 117,
     "metadata": {},
     "output_type": "execute_result"
    }
   ],
   "source": [
    "ground_truth_classes"
   ]
  },
  {
   "cell_type": "markdown",
   "id": "5e8eaf1c",
   "metadata": {},
   "source": [
    "### Comparison to gpt-3.5-turbo\n",
    "Let's compare how our model works compared to the standard model"
   ]
  },
  {
   "cell_type": "code",
   "execution_count": null,
   "id": "f9a17591",
   "metadata": {},
   "outputs": [],
   "source": [
    "import time\n",
    "from tqdm.notebook import tqdm\n",
    "\n",
    "def classify_report_baseline(report):\n",
    "    try:\n",
    "        completion = openai.ChatCompletion.create(\n",
    "                        model = \"gpt-3.5-turbo\",\n",
    "                        messages=[\n",
    "                                {\"role\": \"system\", \"content\": system_prompt},\n",
    "                                {\"role\": \"user\", \"content\": report}\n",
    "                              ],\n",
    "                        temperature=0\n",
    "                            )\n",
    "    except openai.error.APIConnectionError:  # To retry if openai loses the connection\n",
    "        time.sleep(10)\n",
    "        completion = openai.ChatCompletion.create(\n",
    "                model = \"gpt-3.5-turbo\",\n",
    "                messages=[\n",
    "                        {\"role\": \"system\", \"content\": system_prompt},\n",
    "                        {\"role\": \"user\", \"content\": report}\n",
    "                      ],\n",
    "                temperature=0\n",
    "                    )\n",
    "\n",
    "    return completion\n"
   ]
  },
  {
   "cell_type": "code",
   "execution_count": null,
   "id": "ce5a41db",
   "metadata": {},
   "outputs": [
    {
     "data": {
      "application/vnd.jupyter.widget-view+json": {
       "model_id": "95df78be911a4d6688cfc30427f4f038",
       "version_major": 2,
       "version_minor": 0
      },
      "text/plain": [
       "0it [00:00, ?it/s]"
      ]
     },
     "metadata": {},
     "output_type": "display_data"
    }
   ],
   "source": [
    "predicted_classes = []\n",
    "ground_truth_classes = []\n",
    "for line in tqdm(test.iterrows()):\n",
    "    report, specialty = line[1][\"report\"], line[1][\"medical_specialty\"]\n",
    "    ground_truth_classes.append(specialty.strip())  # in case of any trailing\n",
    "    prediction = classify_report_baseline(report)\n",
    "    predicted_classes.append(prediction.choices[0].message[\"content\"].strip())\n",
    "    \n",
    "    "
   ]
  },
  {
   "cell_type": "code",
   "execution_count": null,
   "id": "08ed08e7",
   "metadata": {},
   "outputs": [
    {
     "data": {
      "text/plain": [
       "0.56"
      ]
     },
     "execution_count": 44,
     "metadata": {},
     "output_type": "execute_result"
    }
   ],
   "source": [
    "(np.array(predicted_classes) == np.array(ground_truth_classes)).mean()"
   ]
  }
 ],
 "metadata": {
  "kernelspec": {
   "display_name": "Python 3 (ipykernel)",
   "language": "python",
   "name": "python3"
  },
  "language_info": {
   "codemirror_mode": {
    "name": "ipython",
    "version": 3
   },
   "file_extension": ".py",
   "mimetype": "text/x-python",
   "name": "python",
   "nbconvert_exporter": "python",
   "pygments_lexer": "ipython3",
   "version": "3.10.7"
  }
 },
 "nbformat": 4,
 "nbformat_minor": 5
}
